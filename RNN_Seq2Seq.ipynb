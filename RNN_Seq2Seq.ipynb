{
 "cells": [
  {
   "cell_type": "code",
   "execution_count": 2,
   "metadata": {},
   "outputs": [],
   "source": [
    "# Sequence to Sequence\n",
    "# Google 번역기에 사용되는 신경망\n",
    "# 순차적인 정보를 입력받는 RNN과 출력하는 RNN을 조합한 모델\n",
    "# 문장(순차적인 정보)를 입력받아 다른 문장을 출력하는 프로그램에서 많이 사용된다.\n",
    "# Autoencoder와 비슷한개념?.. \n",
    "# 디코더와 인코더로 구성되는데, 인코더로 원문을 번역하여 디코더는 인코더가 번역한 결과물을 입력받음. \n",
    "# 디코더가 출력한 결과물을 번역된 결과물과 비교하면서 학습한다.\n",
    "\n",
    "# 번역프로그램 작성\n",
    "# 네 글자의 영단어 입력 후 두글자의 한글단어로 번역!\n",
    "# 세가지 심볼이 필요함(S(디코더 입력 시작), E(디코더 출력 종료), P(빈 데이터 공간을 나타냄, 의미없는 심볼))\n",
    "\n",
    "import tensorflow as tf\n",
    "import numpy as np\n",
    "\n",
    "# 원ㅡ핫 인코딩을 위한 순차적정보를 배열에 입력\n",
    "char_arr = [c for c in 'SEPabcdefghijklmnopqrstuvwxyz단어나무놀이소녀키스사랑']\n",
    "# 배열에 넣은 글자들을 연관 배열(키/값 쌍)의 형태로 변경\n",
    "num_dic = {n: i for i, n in enumerate(char_arr)}\n",
    "dic_len = len(num_dic)\n",
    "\n",
    "# 학습에 사용할 데이터\n",
    "seq_data = [['word', '단어'],\n",
    "            ['wood', '나무'],\n",
    "            ['game', '놀이'],\n",
    "            ['girl', '소녀'],\n",
    "            ['kiss', '키스'],\n",
    "            ['love', '사랑']]\n",
    "\n",
    "# 함수생성: 입력 단어와 출력단어를 한 글자씩 떼어낸 뒤 배열로 만든 후에 원ㅡ핫 인코딩 형식으로까지 만들어주는 유틸리티 함수 생성\n",
    "def make_batch(seq_data):\n",
    "    input_batch = []\n",
    "    output_batch = []\n",
    "    target_batch =[]\n",
    "    \n",
    "    for seq in seq_data:\n",
    "        # 인코더 셀의 입력값을 위해 입력 단어를 한 글자씩 떼어 배열로 만든다.\n",
    "        input = [num_dic[n] for n in seq[0]]\n",
    "        # 디코더 셀의 입력값을 위해 출력 단어의 글자들을 배열로 만들고, 시작을 나타내는 심볼 S를 맨 앞에 붙입니다.\n",
    "        output = [num_dic[n] for n in ('S' + seq[1])]\n",
    "        # 학습을 위해 비교할 데코더 셀의 출력값을 만들고, 출력의 끝을 알려주는 심볼 E를 마지막에 붙입니다.\n",
    "        target = [num_dic[n] for n in (seq[1] + 'E')]\n",
    "        \n",
    "        input_batch.append(np.eye(dic_len)[input])\n",
    "        output_batch.append(np.eye(dic_len)[output])\n",
    "        target_batch.append(target)\n",
    "        \n",
    "    return input_batch, output_batch, target_batch\n",
    "\n",
    "# 신경망 모델에서 사용할 변수, 수치등을 정의합니다.\n",
    "learning_rate = 0.01\n",
    "n_hidden = 128\n",
    "total_epoch = 100\n",
    "\n",
    "n_class = n_input = dic_len\n"
   ]
  },
  {
   "cell_type": "code",
   "execution_count": null,
   "metadata": {},
   "outputs": [],
   "source": []
  }
 ],
 "metadata": {
  "kernelspec": {
   "display_name": "Python 3",
   "language": "python",
   "name": "python3"
  },
  "language_info": {
   "codemirror_mode": {
    "name": "ipython",
    "version": 3
   },
   "file_extension": ".py",
   "mimetype": "text/x-python",
   "name": "python",
   "nbconvert_exporter": "python",
   "pygments_lexer": "ipython3",
   "version": "3.6.0"
  }
 },
 "nbformat": 4,
 "nbformat_minor": 2
}
